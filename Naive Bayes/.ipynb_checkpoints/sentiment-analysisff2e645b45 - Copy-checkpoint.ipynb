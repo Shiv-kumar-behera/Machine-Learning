{
 "cells": [
  {
   "cell_type": "code",
   "execution_count": 1,
   "metadata": {
    "execution": {
     "iopub.execute_input": "2025-06-11T12:00:18.153924Z",
     "iopub.status.busy": "2025-06-11T12:00:18.153491Z",
     "iopub.status.idle": "2025-06-11T12:00:18.946616Z",
     "shell.execute_reply": "2025-06-11T12:00:18.945644Z",
     "shell.execute_reply.started": "2025-06-11T12:00:18.153886Z"
    }
   },
   "outputs": [],
   "source": [
    "import numpy as np\n",
    "import pandas as pd"
   ]
  },
  {
   "cell_type": "code",
   "execution_count": 2,
   "metadata": {
    "execution": {
     "iopub.execute_input": "2025-06-11T12:00:18.949007Z",
     "iopub.status.busy": "2025-06-11T12:00:18.948468Z",
     "iopub.status.idle": "2025-06-11T12:00:21.104845Z",
     "shell.execute_reply": "2025-06-11T12:00:21.103862Z",
     "shell.execute_reply.started": "2025-06-11T12:00:18.948961Z"
    }
   },
   "outputs": [
    {
     "data": {
      "text/html": [
       "<div>\n",
       "<style scoped>\n",
       "    .dataframe tbody tr th:only-of-type {\n",
       "        vertical-align: middle;\n",
       "    }\n",
       "\n",
       "    .dataframe tbody tr th {\n",
       "        vertical-align: top;\n",
       "    }\n",
       "\n",
       "    .dataframe thead th {\n",
       "        text-align: right;\n",
       "    }\n",
       "</style>\n",
       "<table border=\"1\" class=\"dataframe\">\n",
       "  <thead>\n",
       "    <tr style=\"text-align: right;\">\n",
       "      <th></th>\n",
       "      <th>review</th>\n",
       "      <th>sentiment</th>\n",
       "    </tr>\n",
       "  </thead>\n",
       "  <tbody>\n",
       "    <tr>\n",
       "      <th>22892</th>\n",
       "      <td>Labeling this film a \"lesbian love story\" is a...</td>\n",
       "      <td>positive</td>\n",
       "    </tr>\n",
       "    <tr>\n",
       "      <th>9148</th>\n",
       "      <td>This oddity from Roman Polanski clearly shows ...</td>\n",
       "      <td>positive</td>\n",
       "    </tr>\n",
       "    <tr>\n",
       "      <th>25570</th>\n",
       "      <td>Story of a good-for-nothing poet and a sidekic...</td>\n",
       "      <td>negative</td>\n",
       "    </tr>\n",
       "    <tr>\n",
       "      <th>27081</th>\n",
       "      <td>I remember watching this film back in 86' when...</td>\n",
       "      <td>negative</td>\n",
       "    </tr>\n",
       "    <tr>\n",
       "      <th>15497</th>\n",
       "      <td>Leland P. Fitzgerald (Ryan Gosling) has commit...</td>\n",
       "      <td>positive</td>\n",
       "    </tr>\n",
       "  </tbody>\n",
       "</table>\n",
       "</div>"
      ],
      "text/plain": [
       "                                                  review sentiment\n",
       "22892  Labeling this film a \"lesbian love story\" is a...  positive\n",
       "9148   This oddity from Roman Polanski clearly shows ...  positive\n",
       "25570  Story of a good-for-nothing poet and a sidekic...  negative\n",
       "27081  I remember watching this film back in 86' when...  negative\n",
       "15497  Leland P. Fitzgerald (Ryan Gosling) has commit...  positive"
      ]
     },
     "execution_count": 2,
     "metadata": {},
     "output_type": "execute_result"
    }
   ],
   "source": [
    "data = pd.read_csv(\"/kaggle/input/imdb-dataset-of-50k-movie-reviews/IMDB Dataset.csv\")\n",
    "data = data.sample(10000)\n",
    "data.head()"
   ]
  },
  {
   "cell_type": "code",
   "execution_count": 3,
   "metadata": {
    "execution": {
     "iopub.execute_input": "2025-06-11T12:00:21.106127Z",
     "iopub.status.busy": "2025-06-11T12:00:21.105789Z",
     "iopub.status.idle": "2025-06-11T12:00:21.136714Z",
     "shell.execute_reply": "2025-06-11T12:00:21.135439Z",
     "shell.execute_reply.started": "2025-06-11T12:00:21.106099Z"
    }
   },
   "outputs": [
    {
     "name": "stdout",
     "output_type": "stream",
     "text": [
      "<class 'pandas.core.frame.DataFrame'>\n",
      "Index: 10000 entries, 22892 to 28466\n",
      "Data columns (total 2 columns):\n",
      " #   Column     Non-Null Count  Dtype \n",
      "---  ------     --------------  ----- \n",
      " 0   review     10000 non-null  object\n",
      " 1   sentiment  10000 non-null  object\n",
      "dtypes: object(2)\n",
      "memory usage: 234.4+ KB\n"
     ]
    }
   ],
   "source": [
    "data.info()"
   ]
  },
  {
   "cell_type": "code",
   "execution_count": 4,
   "metadata": {
    "execution": {
     "iopub.execute_input": "2025-06-11T12:00:21.138622Z",
     "iopub.status.busy": "2025-06-11T12:00:21.138220Z",
     "iopub.status.idle": "2025-06-11T12:00:21.171806Z",
     "shell.execute_reply": "2025-06-11T12:00:21.170556Z",
     "shell.execute_reply.started": "2025-06-11T12:00:21.138587Z"
    }
   },
   "outputs": [
    {
     "name": "stderr",
     "output_type": "stream",
     "text": [
      "/tmp/ipykernel_35/3093252986.py:1: FutureWarning: A value is trying to be set on a copy of a DataFrame or Series through chained assignment using an inplace method.\n",
      "The behavior will change in pandas 3.0. This inplace method will never work because the intermediate object on which we are setting values always behaves as a copy.\n",
      "\n",
      "For example, when doing 'df[col].method(value, inplace=True)', try using 'df.method({col: value}, inplace=True)' or df[col] = df[col].method(value) instead, to perform the operation inplace on the original object.\n",
      "\n",
      "\n",
      "  data['sentiment'].replace('positive',1,inplace=True)\n",
      "/tmp/ipykernel_35/3093252986.py:2: FutureWarning: A value is trying to be set on a copy of a DataFrame or Series through chained assignment using an inplace method.\n",
      "The behavior will change in pandas 3.0. This inplace method will never work because the intermediate object on which we are setting values always behaves as a copy.\n",
      "\n",
      "For example, when doing 'df[col].method(value, inplace=True)', try using 'df.method({col: value}, inplace=True)' or df[col] = df[col].method(value) instead, to perform the operation inplace on the original object.\n",
      "\n",
      "\n",
      "  data['sentiment'].replace('negative',0,inplace=True)\n",
      "/tmp/ipykernel_35/3093252986.py:2: FutureWarning: Downcasting behavior in `replace` is deprecated and will be removed in a future version. To retain the old behavior, explicitly call `result.infer_objects(copy=False)`. To opt-in to the future behavior, set `pd.set_option('future.no_silent_downcasting', True)`\n",
      "  data['sentiment'].replace('negative',0,inplace=True)\n"
     ]
    },
    {
     "data": {
      "text/html": [
       "<div>\n",
       "<style scoped>\n",
       "    .dataframe tbody tr th:only-of-type {\n",
       "        vertical-align: middle;\n",
       "    }\n",
       "\n",
       "    .dataframe tbody tr th {\n",
       "        vertical-align: top;\n",
       "    }\n",
       "\n",
       "    .dataframe thead th {\n",
       "        text-align: right;\n",
       "    }\n",
       "</style>\n",
       "<table border=\"1\" class=\"dataframe\">\n",
       "  <thead>\n",
       "    <tr style=\"text-align: right;\">\n",
       "      <th></th>\n",
       "      <th>review</th>\n",
       "      <th>sentiment</th>\n",
       "    </tr>\n",
       "  </thead>\n",
       "  <tbody>\n",
       "    <tr>\n",
       "      <th>22892</th>\n",
       "      <td>Labeling this film a \"lesbian love story\" is a...</td>\n",
       "      <td>1</td>\n",
       "    </tr>\n",
       "    <tr>\n",
       "      <th>9148</th>\n",
       "      <td>This oddity from Roman Polanski clearly shows ...</td>\n",
       "      <td>1</td>\n",
       "    </tr>\n",
       "    <tr>\n",
       "      <th>25570</th>\n",
       "      <td>Story of a good-for-nothing poet and a sidekic...</td>\n",
       "      <td>0</td>\n",
       "    </tr>\n",
       "    <tr>\n",
       "      <th>27081</th>\n",
       "      <td>I remember watching this film back in 86' when...</td>\n",
       "      <td>0</td>\n",
       "    </tr>\n",
       "    <tr>\n",
       "      <th>15497</th>\n",
       "      <td>Leland P. Fitzgerald (Ryan Gosling) has commit...</td>\n",
       "      <td>1</td>\n",
       "    </tr>\n",
       "  </tbody>\n",
       "</table>\n",
       "</div>"
      ],
      "text/plain": [
       "                                                  review  sentiment\n",
       "22892  Labeling this film a \"lesbian love story\" is a...          1\n",
       "9148   This oddity from Roman Polanski clearly shows ...          1\n",
       "25570  Story of a good-for-nothing poet and a sidekic...          0\n",
       "27081  I remember watching this film back in 86' when...          0\n",
       "15497  Leland P. Fitzgerald (Ryan Gosling) has commit...          1"
      ]
     },
     "execution_count": 4,
     "metadata": {},
     "output_type": "execute_result"
    }
   ],
   "source": [
    "data['sentiment'].replace('positive',1,inplace=True)\n",
    "data['sentiment'].replace('negative',0,inplace=True)\n",
    "data.head()"
   ]
  },
  {
   "cell_type": "code",
   "execution_count": 5,
   "metadata": {
    "execution": {
     "iopub.execute_input": "2025-06-11T12:00:21.174763Z",
     "iopub.status.busy": "2025-06-11T12:00:21.174462Z",
     "iopub.status.idle": "2025-06-11T12:00:21.182450Z",
     "shell.execute_reply": "2025-06-11T12:00:21.181457Z",
     "shell.execute_reply.started": "2025-06-11T12:00:21.174739Z"
    }
   },
   "outputs": [],
   "source": [
    "import re\n",
    "def remove_html(text):\n",
    "  clean = re.compile(\"<.*?>\")\n",
    "  return re.sub(clean, '', text)\n",
    "    "
   ]
  },
  {
   "cell_type": "code",
   "execution_count": 6,
   "metadata": {
    "execution": {
     "iopub.execute_input": "2025-06-11T12:00:21.183548Z",
     "iopub.status.busy": "2025-06-11T12:00:21.183308Z",
     "iopub.status.idle": "2025-06-11T12:00:21.260732Z",
     "shell.execute_reply": "2025-06-11T12:00:21.259900Z",
     "shell.execute_reply.started": "2025-06-11T12:00:21.183527Z"
    }
   },
   "outputs": [
    {
     "data": {
      "text/html": [
       "<div>\n",
       "<style scoped>\n",
       "    .dataframe tbody tr th:only-of-type {\n",
       "        vertical-align: middle;\n",
       "    }\n",
       "\n",
       "    .dataframe tbody tr th {\n",
       "        vertical-align: top;\n",
       "    }\n",
       "\n",
       "    .dataframe thead th {\n",
       "        text-align: right;\n",
       "    }\n",
       "</style>\n",
       "<table border=\"1\" class=\"dataframe\">\n",
       "  <thead>\n",
       "    <tr style=\"text-align: right;\">\n",
       "      <th></th>\n",
       "      <th>review</th>\n",
       "      <th>sentiment</th>\n",
       "    </tr>\n",
       "  </thead>\n",
       "  <tbody>\n",
       "    <tr>\n",
       "      <th>22892</th>\n",
       "      <td>Labeling this film a \"lesbian love story\" is a...</td>\n",
       "      <td>1</td>\n",
       "    </tr>\n",
       "    <tr>\n",
       "      <th>9148</th>\n",
       "      <td>This oddity from Roman Polanski clearly shows ...</td>\n",
       "      <td>1</td>\n",
       "    </tr>\n",
       "    <tr>\n",
       "      <th>25570</th>\n",
       "      <td>Story of a good-for-nothing poet and a sidekic...</td>\n",
       "      <td>0</td>\n",
       "    </tr>\n",
       "    <tr>\n",
       "      <th>27081</th>\n",
       "      <td>I remember watching this film back in 86' when...</td>\n",
       "      <td>0</td>\n",
       "    </tr>\n",
       "    <tr>\n",
       "      <th>15497</th>\n",
       "      <td>Leland P. Fitzgerald (Ryan Gosling) has commit...</td>\n",
       "      <td>1</td>\n",
       "    </tr>\n",
       "  </tbody>\n",
       "</table>\n",
       "</div>"
      ],
      "text/plain": [
       "                                                  review  sentiment\n",
       "22892  Labeling this film a \"lesbian love story\" is a...          1\n",
       "9148   This oddity from Roman Polanski clearly shows ...          1\n",
       "25570  Story of a good-for-nothing poet and a sidekic...          0\n",
       "27081  I remember watching this film back in 86' when...          0\n",
       "15497  Leland P. Fitzgerald (Ryan Gosling) has commit...          1"
      ]
     },
     "execution_count": 6,
     "metadata": {},
     "output_type": "execute_result"
    }
   ],
   "source": [
    "data['review'] = data['review'].apply(remove_html)\n",
    "data.head()"
   ]
  },
  {
   "cell_type": "code",
   "execution_count": 7,
   "metadata": {
    "execution": {
     "iopub.execute_input": "2025-06-11T12:00:21.262200Z",
     "iopub.status.busy": "2025-06-11T12:00:21.261745Z",
     "iopub.status.idle": "2025-06-11T12:00:21.267220Z",
     "shell.execute_reply": "2025-06-11T12:00:21.266229Z",
     "shell.execute_reply.started": "2025-06-11T12:00:21.262163Z"
    }
   },
   "outputs": [],
   "source": [
    "def convert_lower(text):\n",
    "  return text.lower()"
   ]
  },
  {
   "cell_type": "code",
   "execution_count": 8,
   "metadata": {
    "execution": {
     "iopub.execute_input": "2025-06-11T12:00:21.268547Z",
     "iopub.status.busy": "2025-06-11T12:00:21.268122Z",
     "iopub.status.idle": "2025-06-11T12:00:21.334274Z",
     "shell.execute_reply": "2025-06-11T12:00:21.333139Z",
     "shell.execute_reply.started": "2025-06-11T12:00:21.268512Z"
    }
   },
   "outputs": [
    {
     "data": {
      "text/html": [
       "<div>\n",
       "<style scoped>\n",
       "    .dataframe tbody tr th:only-of-type {\n",
       "        vertical-align: middle;\n",
       "    }\n",
       "\n",
       "    .dataframe tbody tr th {\n",
       "        vertical-align: top;\n",
       "    }\n",
       "\n",
       "    .dataframe thead th {\n",
       "        text-align: right;\n",
       "    }\n",
       "</style>\n",
       "<table border=\"1\" class=\"dataframe\">\n",
       "  <thead>\n",
       "    <tr style=\"text-align: right;\">\n",
       "      <th></th>\n",
       "      <th>review</th>\n",
       "      <th>sentiment</th>\n",
       "    </tr>\n",
       "  </thead>\n",
       "  <tbody>\n",
       "    <tr>\n",
       "      <th>22892</th>\n",
       "      <td>labeling this film a \"lesbian love story\" is a...</td>\n",
       "      <td>1</td>\n",
       "    </tr>\n",
       "    <tr>\n",
       "      <th>9148</th>\n",
       "      <td>this oddity from roman polanski clearly shows ...</td>\n",
       "      <td>1</td>\n",
       "    </tr>\n",
       "    <tr>\n",
       "      <th>25570</th>\n",
       "      <td>story of a good-for-nothing poet and a sidekic...</td>\n",
       "      <td>0</td>\n",
       "    </tr>\n",
       "    <tr>\n",
       "      <th>27081</th>\n",
       "      <td>i remember watching this film back in 86' when...</td>\n",
       "      <td>0</td>\n",
       "    </tr>\n",
       "    <tr>\n",
       "      <th>15497</th>\n",
       "      <td>leland p. fitzgerald (ryan gosling) has commit...</td>\n",
       "      <td>1</td>\n",
       "    </tr>\n",
       "  </tbody>\n",
       "</table>\n",
       "</div>"
      ],
      "text/plain": [
       "                                                  review  sentiment\n",
       "22892  labeling this film a \"lesbian love story\" is a...          1\n",
       "9148   this oddity from roman polanski clearly shows ...          1\n",
       "25570  story of a good-for-nothing poet and a sidekic...          0\n",
       "27081  i remember watching this film back in 86' when...          0\n",
       "15497  leland p. fitzgerald (ryan gosling) has commit...          1"
      ]
     },
     "execution_count": 8,
     "metadata": {},
     "output_type": "execute_result"
    }
   ],
   "source": [
    "data['review'] = data['review'].apply(convert_lower)\n",
    "data.head()"
   ]
  },
  {
   "cell_type": "code",
   "execution_count": 9,
   "metadata": {
    "execution": {
     "iopub.execute_input": "2025-06-11T12:00:21.335610Z",
     "iopub.status.busy": "2025-06-11T12:00:21.335281Z",
     "iopub.status.idle": "2025-06-11T12:00:21.340693Z",
     "shell.execute_reply": "2025-06-11T12:00:21.339846Z",
     "shell.execute_reply.started": "2025-06-11T12:00:21.335581Z"
    }
   },
   "outputs": [],
   "source": [
    "def remove_special(text):\n",
    "  x = ''\n",
    "  for i in text:\n",
    "    if i.isalnum():\n",
    "      x+=i\n",
    "    else:\n",
    "      x += ' '\n",
    "  return x"
   ]
  },
  {
   "cell_type": "code",
   "execution_count": 10,
   "metadata": {
    "execution": {
     "iopub.execute_input": "2025-06-11T12:00:21.342504Z",
     "iopub.status.busy": "2025-06-11T12:00:21.341733Z",
     "iopub.status.idle": "2025-06-11T12:00:22.713330Z",
     "shell.execute_reply": "2025-06-11T12:00:22.712295Z",
     "shell.execute_reply.started": "2025-06-11T12:00:21.342480Z"
    }
   },
   "outputs": [
    {
     "data": {
      "text/html": [
       "<div>\n",
       "<style scoped>\n",
       "    .dataframe tbody tr th:only-of-type {\n",
       "        vertical-align: middle;\n",
       "    }\n",
       "\n",
       "    .dataframe tbody tr th {\n",
       "        vertical-align: top;\n",
       "    }\n",
       "\n",
       "    .dataframe thead th {\n",
       "        text-align: right;\n",
       "    }\n",
       "</style>\n",
       "<table border=\"1\" class=\"dataframe\">\n",
       "  <thead>\n",
       "    <tr style=\"text-align: right;\">\n",
       "      <th></th>\n",
       "      <th>review</th>\n",
       "      <th>sentiment</th>\n",
       "    </tr>\n",
       "  </thead>\n",
       "  <tbody>\n",
       "    <tr>\n",
       "      <th>22892</th>\n",
       "      <td>labeling this film a  lesbian love story  is a...</td>\n",
       "      <td>1</td>\n",
       "    </tr>\n",
       "    <tr>\n",
       "      <th>9148</th>\n",
       "      <td>this oddity from roman polanski clearly shows ...</td>\n",
       "      <td>1</td>\n",
       "    </tr>\n",
       "    <tr>\n",
       "      <th>25570</th>\n",
       "      <td>story of a good for nothing poet and a sidekic...</td>\n",
       "      <td>0</td>\n",
       "    </tr>\n",
       "    <tr>\n",
       "      <th>27081</th>\n",
       "      <td>i remember watching this film back in 86  when...</td>\n",
       "      <td>0</td>\n",
       "    </tr>\n",
       "    <tr>\n",
       "      <th>15497</th>\n",
       "      <td>leland p  fitzgerald  ryan gosling  has commit...</td>\n",
       "      <td>1</td>\n",
       "    </tr>\n",
       "  </tbody>\n",
       "</table>\n",
       "</div>"
      ],
      "text/plain": [
       "                                                  review  sentiment\n",
       "22892  labeling this film a  lesbian love story  is a...          1\n",
       "9148   this oddity from roman polanski clearly shows ...          1\n",
       "25570  story of a good for nothing poet and a sidekic...          0\n",
       "27081  i remember watching this film back in 86  when...          0\n",
       "15497  leland p  fitzgerald  ryan gosling  has commit...          1"
      ]
     },
     "execution_count": 10,
     "metadata": {},
     "output_type": "execute_result"
    }
   ],
   "source": [
    "data['review'] = data['review'].apply(remove_special)\n",
    "data.head()"
   ]
  },
  {
   "cell_type": "code",
   "execution_count": 11,
   "metadata": {
    "execution": {
     "iopub.execute_input": "2025-06-11T12:00:22.714679Z",
     "iopub.status.busy": "2025-06-11T12:00:22.714320Z",
     "iopub.status.idle": "2025-06-11T12:00:24.367700Z",
     "shell.execute_reply": "2025-06-11T12:00:24.366692Z",
     "shell.execute_reply.started": "2025-06-11T12:00:22.714651Z"
    }
   },
   "outputs": [],
   "source": [
    "import nltk\n",
    "from nltk.corpus import stopwords"
   ]
  },
  {
   "cell_type": "code",
   "execution_count": 12,
   "metadata": {
    "execution": {
     "iopub.execute_input": "2025-06-11T12:00:24.369099Z",
     "iopub.status.busy": "2025-06-11T12:00:24.368677Z",
     "iopub.status.idle": "2025-06-11T12:00:24.374103Z",
     "shell.execute_reply": "2025-06-11T12:00:24.373247Z",
     "shell.execute_reply.started": "2025-06-11T12:00:24.369076Z"
    }
   },
   "outputs": [],
   "source": [
    "def remove_stopwords(text):\n",
    "  x = []\n",
    "  for i in text.split():\n",
    "    if i not in stopwords.words(\"english\"):\n",
    "      x.append(i)\n",
    "  y = x[:]\n",
    "  x.clear()\n",
    "  return y"
   ]
  },
  {
   "cell_type": "code",
   "execution_count": 13,
   "metadata": {
    "execution": {
     "iopub.execute_input": "2025-06-11T12:00:24.375233Z",
     "iopub.status.busy": "2025-06-11T12:00:24.374955Z",
     "iopub.status.idle": "2025-06-11T12:03:46.548349Z",
     "shell.execute_reply": "2025-06-11T12:03:46.547063Z",
     "shell.execute_reply.started": "2025-06-11T12:00:24.375213Z"
    }
   },
   "outputs": [
    {
     "data": {
      "text/html": [
       "<div>\n",
       "<style scoped>\n",
       "    .dataframe tbody tr th:only-of-type {\n",
       "        vertical-align: middle;\n",
       "    }\n",
       "\n",
       "    .dataframe tbody tr th {\n",
       "        vertical-align: top;\n",
       "    }\n",
       "\n",
       "    .dataframe thead th {\n",
       "        text-align: right;\n",
       "    }\n",
       "</style>\n",
       "<table border=\"1\" class=\"dataframe\">\n",
       "  <thead>\n",
       "    <tr style=\"text-align: right;\">\n",
       "      <th></th>\n",
       "      <th>review</th>\n",
       "      <th>sentiment</th>\n",
       "    </tr>\n",
       "  </thead>\n",
       "  <tbody>\n",
       "    <tr>\n",
       "      <th>22892</th>\n",
       "      <td>[labeling, film, lesbian, love, story, accurat...</td>\n",
       "      <td>1</td>\n",
       "    </tr>\n",
       "    <tr>\n",
       "      <th>9148</th>\n",
       "      <td>[oddity, roman, polanski, clearly, shows, preo...</td>\n",
       "      <td>1</td>\n",
       "    </tr>\n",
       "    <tr>\n",
       "      <th>25570</th>\n",
       "      <td>[story, good, nothing, poet, sidekick, singer,...</td>\n",
       "      <td>0</td>\n",
       "    </tr>\n",
       "    <tr>\n",
       "      <th>27081</th>\n",
       "      <td>[remember, watching, film, back, 86, first, ca...</td>\n",
       "      <td>0</td>\n",
       "    </tr>\n",
       "    <tr>\n",
       "      <th>15497</th>\n",
       "      <td>[leland, p, fitzgerald, ryan, gosling, committ...</td>\n",
       "      <td>1</td>\n",
       "    </tr>\n",
       "  </tbody>\n",
       "</table>\n",
       "</div>"
      ],
      "text/plain": [
       "                                                  review  sentiment\n",
       "22892  [labeling, film, lesbian, love, story, accurat...          1\n",
       "9148   [oddity, roman, polanski, clearly, shows, preo...          1\n",
       "25570  [story, good, nothing, poet, sidekick, singer,...          0\n",
       "27081  [remember, watching, film, back, 86, first, ca...          0\n",
       "15497  [leland, p, fitzgerald, ryan, gosling, committ...          1"
      ]
     },
     "execution_count": 13,
     "metadata": {},
     "output_type": "execute_result"
    }
   ],
   "source": [
    "data['review'] = data['review'].apply(remove_stopwords)\n",
    "data.head()"
   ]
  },
  {
   "cell_type": "code",
   "execution_count": 14,
   "metadata": {
    "execution": {
     "iopub.execute_input": "2025-06-11T12:03:46.551837Z",
     "iopub.status.busy": "2025-06-11T12:03:46.551537Z",
     "iopub.status.idle": "2025-06-11T12:03:46.557220Z",
     "shell.execute_reply": "2025-06-11T12:03:46.556342Z",
     "shell.execute_reply.started": "2025-06-11T12:03:46.551798Z"
    }
   },
   "outputs": [],
   "source": [
    "from nltk.stem.porter import PorterStemmer\n",
    "ps = PorterStemmer()"
   ]
  },
  {
   "cell_type": "code",
   "execution_count": 15,
   "metadata": {
    "execution": {
     "iopub.execute_input": "2025-06-11T12:03:46.558436Z",
     "iopub.status.busy": "2025-06-11T12:03:46.558179Z",
     "iopub.status.idle": "2025-06-11T12:03:46.577884Z",
     "shell.execute_reply": "2025-06-11T12:03:46.576854Z",
     "shell.execute_reply.started": "2025-06-11T12:03:46.558417Z"
    }
   },
   "outputs": [],
   "source": [
    "def stem_words(text):\n",
    "  y = []\n",
    "  for i in text:\n",
    "    y.append(ps.stem(i))\n",
    "  z = y[:]\n",
    "  y.clear()\n",
    "  return z"
   ]
  },
  {
   "cell_type": "code",
   "execution_count": 16,
   "metadata": {
    "execution": {
     "iopub.execute_input": "2025-06-11T12:03:46.579009Z",
     "iopub.status.busy": "2025-06-11T12:03:46.578739Z",
     "iopub.status.idle": "2025-06-11T12:04:06.145286Z",
     "shell.execute_reply": "2025-06-11T12:04:06.144055Z",
     "shell.execute_reply.started": "2025-06-11T12:03:46.578989Z"
    }
   },
   "outputs": [
    {
     "data": {
      "text/html": [
       "<div>\n",
       "<style scoped>\n",
       "    .dataframe tbody tr th:only-of-type {\n",
       "        vertical-align: middle;\n",
       "    }\n",
       "\n",
       "    .dataframe tbody tr th {\n",
       "        vertical-align: top;\n",
       "    }\n",
       "\n",
       "    .dataframe thead th {\n",
       "        text-align: right;\n",
       "    }\n",
       "</style>\n",
       "<table border=\"1\" class=\"dataframe\">\n",
       "  <thead>\n",
       "    <tr style=\"text-align: right;\">\n",
       "      <th></th>\n",
       "      <th>review</th>\n",
       "      <th>sentiment</th>\n",
       "    </tr>\n",
       "  </thead>\n",
       "  <tbody>\n",
       "    <tr>\n",
       "      <th>22892</th>\n",
       "      <td>[label, film, lesbian, love, stori, accur, cal...</td>\n",
       "      <td>1</td>\n",
       "    </tr>\n",
       "    <tr>\n",
       "      <th>9148</th>\n",
       "      <td>[odditi, roman, polanski, clearli, show, preoc...</td>\n",
       "      <td>1</td>\n",
       "    </tr>\n",
       "    <tr>\n",
       "      <th>25570</th>\n",
       "      <td>[stori, good, noth, poet, sidekick, singer, pu...</td>\n",
       "      <td>0</td>\n",
       "    </tr>\n",
       "    <tr>\n",
       "      <th>27081</th>\n",
       "      <td>[rememb, watch, film, back, 86, first, came, a...</td>\n",
       "      <td>0</td>\n",
       "    </tr>\n",
       "    <tr>\n",
       "      <th>15497</th>\n",
       "      <td>[leland, p, fitzgerald, ryan, gosl, commit, un...</td>\n",
       "      <td>1</td>\n",
       "    </tr>\n",
       "  </tbody>\n",
       "</table>\n",
       "</div>"
      ],
      "text/plain": [
       "                                                  review  sentiment\n",
       "22892  [label, film, lesbian, love, stori, accur, cal...          1\n",
       "9148   [odditi, roman, polanski, clearli, show, preoc...          1\n",
       "25570  [stori, good, noth, poet, sidekick, singer, pu...          0\n",
       "27081  [rememb, watch, film, back, 86, first, came, a...          0\n",
       "15497  [leland, p, fitzgerald, ryan, gosl, commit, un...          1"
      ]
     },
     "execution_count": 16,
     "metadata": {},
     "output_type": "execute_result"
    }
   ],
   "source": [
    "data['review'] = data['review'].apply(stem_words)\n",
    "data.head()"
   ]
  },
  {
   "cell_type": "code",
   "execution_count": 17,
   "metadata": {
    "execution": {
     "iopub.execute_input": "2025-06-11T12:04:06.146489Z",
     "iopub.status.busy": "2025-06-11T12:04:06.146208Z",
     "iopub.status.idle": "2025-06-11T12:04:06.151637Z",
     "shell.execute_reply": "2025-06-11T12:04:06.150339Z",
     "shell.execute_reply.started": "2025-06-11T12:04:06.146468Z"
    }
   },
   "outputs": [],
   "source": [
    "def join_words(input_list):\n",
    "  return \" \".join(input_list)"
   ]
  },
  {
   "cell_type": "code",
   "execution_count": 18,
   "metadata": {
    "execution": {
     "iopub.execute_input": "2025-06-11T12:04:06.154221Z",
     "iopub.status.busy": "2025-06-11T12:04:06.153197Z",
     "iopub.status.idle": "2025-06-11T12:04:06.219220Z",
     "shell.execute_reply": "2025-06-11T12:04:06.218176Z",
     "shell.execute_reply.started": "2025-06-11T12:04:06.153948Z"
    }
   },
   "outputs": [
    {
     "data": {
      "text/html": [
       "<div>\n",
       "<style scoped>\n",
       "    .dataframe tbody tr th:only-of-type {\n",
       "        vertical-align: middle;\n",
       "    }\n",
       "\n",
       "    .dataframe tbody tr th {\n",
       "        vertical-align: top;\n",
       "    }\n",
       "\n",
       "    .dataframe thead th {\n",
       "        text-align: right;\n",
       "    }\n",
       "</style>\n",
       "<table border=\"1\" class=\"dataframe\">\n",
       "  <thead>\n",
       "    <tr style=\"text-align: right;\">\n",
       "      <th></th>\n",
       "      <th>review</th>\n",
       "      <th>sentiment</th>\n",
       "    </tr>\n",
       "  </thead>\n",
       "  <tbody>\n",
       "    <tr>\n",
       "      <th>22892</th>\n",
       "      <td>label film lesbian love stori accur call pride...</td>\n",
       "      <td>1</td>\n",
       "    </tr>\n",
       "    <tr>\n",
       "      <th>9148</th>\n",
       "      <td>odditi roman polanski clearli show preoccup la...</td>\n",
       "      <td>1</td>\n",
       "    </tr>\n",
       "    <tr>\n",
       "      <th>25570</th>\n",
       "      <td>stori good noth poet sidekick singer put word ...</td>\n",
       "      <td>0</td>\n",
       "    </tr>\n",
       "    <tr>\n",
       "      <th>27081</th>\n",
       "      <td>rememb watch film back 86 first came aw film a...</td>\n",
       "      <td>0</td>\n",
       "    </tr>\n",
       "    <tr>\n",
       "      <th>15497</th>\n",
       "      <td>leland p fitzgerald ryan gosl commit unspeak c...</td>\n",
       "      <td>1</td>\n",
       "    </tr>\n",
       "  </tbody>\n",
       "</table>\n",
       "</div>"
      ],
      "text/plain": [
       "                                                  review  sentiment\n",
       "22892  label film lesbian love stori accur call pride...          1\n",
       "9148   odditi roman polanski clearli show preoccup la...          1\n",
       "25570  stori good noth poet sidekick singer put word ...          0\n",
       "27081  rememb watch film back 86 first came aw film a...          0\n",
       "15497  leland p fitzgerald ryan gosl commit unspeak c...          1"
      ]
     },
     "execution_count": 18,
     "metadata": {},
     "output_type": "execute_result"
    }
   ],
   "source": [
    "data['review'] = data['review'].apply(join_words)\n",
    "data.head()"
   ]
  },
  {
   "cell_type": "code",
   "execution_count": 19,
   "metadata": {
    "execution": {
     "iopub.execute_input": "2025-06-11T12:04:06.220427Z",
     "iopub.status.busy": "2025-06-11T12:04:06.220150Z",
     "iopub.status.idle": "2025-06-11T12:04:06.225081Z",
     "shell.execute_reply": "2025-06-11T12:04:06.224034Z",
     "shell.execute_reply.started": "2025-06-11T12:04:06.220396Z"
    }
   },
   "outputs": [],
   "source": [
    "from sklearn.feature_extraction.text import CountVectorizer\n",
    "cv = CountVectorizer()"
   ]
  },
  {
   "cell_type": "code",
   "execution_count": 20,
   "metadata": {
    "execution": {
     "iopub.execute_input": "2025-06-11T12:04:06.226175Z",
     "iopub.status.busy": "2025-06-11T12:04:06.225910Z",
     "iopub.status.idle": "2025-06-11T12:04:08.814017Z",
     "shell.execute_reply": "2025-06-11T12:04:08.813183Z",
     "shell.execute_reply.started": "2025-06-11T12:04:06.226155Z"
    }
   },
   "outputs": [],
   "source": [
    "x = cv.fit_transform(data['review']).toarray()"
   ]
  },
  {
   "cell_type": "code",
   "execution_count": 21,
   "metadata": {
    "execution": {
     "iopub.execute_input": "2025-06-11T12:04:08.815426Z",
     "iopub.status.busy": "2025-06-11T12:04:08.815090Z",
     "iopub.status.idle": "2025-06-11T12:04:08.821157Z",
     "shell.execute_reply": "2025-06-11T12:04:08.820335Z",
     "shell.execute_reply.started": "2025-06-11T12:04:08.815398Z"
    }
   },
   "outputs": [
    {
     "data": {
      "text/plain": [
       "(10000, 36128)"
      ]
     },
     "execution_count": 21,
     "metadata": {},
     "output_type": "execute_result"
    }
   ],
   "source": [
    "x.shape"
   ]
  },
  {
   "cell_type": "code",
   "execution_count": 22,
   "metadata": {
    "execution": {
     "iopub.execute_input": "2025-06-11T12:04:08.822253Z",
     "iopub.status.busy": "2025-06-11T12:04:08.821908Z",
     "iopub.status.idle": "2025-06-11T12:04:08.843347Z",
     "shell.execute_reply": "2025-06-11T12:04:08.842528Z",
     "shell.execute_reply.started": "2025-06-11T12:04:08.822223Z"
    }
   },
   "outputs": [
    {
     "data": {
      "text/plain": [
       "array([1, 1, 0, ..., 1, 0, 0])"
      ]
     },
     "execution_count": 22,
     "metadata": {},
     "output_type": "execute_result"
    }
   ],
   "source": [
    "y = data.iloc[:,-1].values\n",
    "y"
   ]
  },
  {
   "cell_type": "code",
   "execution_count": 23,
   "metadata": {
    "execution": {
     "iopub.execute_input": "2025-06-11T12:04:08.844524Z",
     "iopub.status.busy": "2025-06-11T12:04:08.844262Z",
     "iopub.status.idle": "2025-06-11T12:04:08.862640Z",
     "shell.execute_reply": "2025-06-11T12:04:08.861785Z",
     "shell.execute_reply.started": "2025-06-11T12:04:08.844505Z"
    }
   },
   "outputs": [
    {
     "data": {
      "text/plain": [
       "(10000,)"
      ]
     },
     "execution_count": 23,
     "metadata": {},
     "output_type": "execute_result"
    }
   ],
   "source": [
    "y.shape"
   ]
  },
  {
   "cell_type": "code",
   "execution_count": 24,
   "metadata": {
    "execution": {
     "iopub.execute_input": "2025-06-11T12:04:08.863914Z",
     "iopub.status.busy": "2025-06-11T12:04:08.863624Z",
     "iopub.status.idle": "2025-06-11T12:04:10.513803Z",
     "shell.execute_reply": "2025-06-11T12:04:10.512896Z",
     "shell.execute_reply.started": "2025-06-11T12:04:08.863887Z"
    }
   },
   "outputs": [],
   "source": [
    "from sklearn.model_selection import train_test_split\n",
    "x_train, x_test, y_train, y_test = train_test_split(x,y, test_size=0.2)"
   ]
  },
  {
   "cell_type": "code",
   "execution_count": 25,
   "metadata": {
    "execution": {
     "iopub.execute_input": "2025-06-11T12:04:10.515056Z",
     "iopub.status.busy": "2025-06-11T12:04:10.514725Z",
     "iopub.status.idle": "2025-06-11T12:04:10.529389Z",
     "shell.execute_reply": "2025-06-11T12:04:10.528409Z",
     "shell.execute_reply.started": "2025-06-11T12:04:10.515026Z"
    }
   },
   "outputs": [],
   "source": [
    "from sklearn.naive_bayes import GaussianNB, MultinomialNB, BernoulliNB"
   ]
  },
  {
   "cell_type": "code",
   "execution_count": 26,
   "metadata": {
    "execution": {
     "iopub.execute_input": "2025-06-11T12:04:10.530571Z",
     "iopub.status.busy": "2025-06-11T12:04:10.530345Z",
     "iopub.status.idle": "2025-06-11T12:04:10.539044Z",
     "shell.execute_reply": "2025-06-11T12:04:10.538108Z",
     "shell.execute_reply.started": "2025-06-11T12:04:10.530556Z"
    }
   },
   "outputs": [],
   "source": [
    "model1 = GaussianNB()\n",
    "model2 = MultinomialNB()\n",
    "model3 = BernoulliNB()"
   ]
  },
  {
   "cell_type": "code",
   "execution_count": 30,
   "metadata": {
    "execution": {
     "iopub.execute_input": "2025-06-11T12:06:02.349863Z",
     "iopub.status.busy": "2025-06-11T12:06:02.349516Z",
     "iopub.status.idle": "2025-06-11T12:06:02.355861Z",
     "shell.execute_reply": "2025-06-11T12:06:02.354916Z",
     "shell.execute_reply.started": "2025-06-11T12:06:02.349812Z"
    }
   },
   "outputs": [
    {
     "data": {
      "text/plain": [
       "(8000,)"
      ]
     },
     "execution_count": 30,
     "metadata": {},
     "output_type": "execute_result"
    }
   ],
   "source": [
    "y_train.shape"
   ]
  },
  {
   "cell_type": "code",
   "execution_count": 31,
   "metadata": {
    "execution": {
     "iopub.execute_input": "2025-06-11T12:06:22.685690Z",
     "iopub.status.busy": "2025-06-11T12:06:22.685399Z",
     "iopub.status.idle": "2025-06-11T12:06:38.085289Z",
     "shell.execute_reply": "2025-06-11T12:06:38.084461Z",
     "shell.execute_reply.started": "2025-06-11T12:06:22.685669Z"
    }
   },
   "outputs": [
    {
     "data": {
      "text/html": [
       "<style>#sk-container-id-1 {color: black;background-color: white;}#sk-container-id-1 pre{padding: 0;}#sk-container-id-1 div.sk-toggleable {background-color: white;}#sk-container-id-1 label.sk-toggleable__label {cursor: pointer;display: block;width: 100%;margin-bottom: 0;padding: 0.3em;box-sizing: border-box;text-align: center;}#sk-container-id-1 label.sk-toggleable__label-arrow:before {content: \"▸\";float: left;margin-right: 0.25em;color: #696969;}#sk-container-id-1 label.sk-toggleable__label-arrow:hover:before {color: black;}#sk-container-id-1 div.sk-estimator:hover label.sk-toggleable__label-arrow:before {color: black;}#sk-container-id-1 div.sk-toggleable__content {max-height: 0;max-width: 0;overflow: hidden;text-align: left;background-color: #f0f8ff;}#sk-container-id-1 div.sk-toggleable__content pre {margin: 0.2em;color: black;border-radius: 0.25em;background-color: #f0f8ff;}#sk-container-id-1 input.sk-toggleable__control:checked~div.sk-toggleable__content {max-height: 200px;max-width: 100%;overflow: auto;}#sk-container-id-1 input.sk-toggleable__control:checked~label.sk-toggleable__label-arrow:before {content: \"▾\";}#sk-container-id-1 div.sk-estimator input.sk-toggleable__control:checked~label.sk-toggleable__label {background-color: #d4ebff;}#sk-container-id-1 div.sk-label input.sk-toggleable__control:checked~label.sk-toggleable__label {background-color: #d4ebff;}#sk-container-id-1 input.sk-hidden--visually {border: 0;clip: rect(1px 1px 1px 1px);clip: rect(1px, 1px, 1px, 1px);height: 1px;margin: -1px;overflow: hidden;padding: 0;position: absolute;width: 1px;}#sk-container-id-1 div.sk-estimator {font-family: monospace;background-color: #f0f8ff;border: 1px dotted black;border-radius: 0.25em;box-sizing: border-box;margin-bottom: 0.5em;}#sk-container-id-1 div.sk-estimator:hover {background-color: #d4ebff;}#sk-container-id-1 div.sk-parallel-item::after {content: \"\";width: 100%;border-bottom: 1px solid gray;flex-grow: 1;}#sk-container-id-1 div.sk-label:hover label.sk-toggleable__label {background-color: #d4ebff;}#sk-container-id-1 div.sk-serial::before {content: \"\";position: absolute;border-left: 1px solid gray;box-sizing: border-box;top: 0;bottom: 0;left: 50%;z-index: 0;}#sk-container-id-1 div.sk-serial {display: flex;flex-direction: column;align-items: center;background-color: white;padding-right: 0.2em;padding-left: 0.2em;position: relative;}#sk-container-id-1 div.sk-item {position: relative;z-index: 1;}#sk-container-id-1 div.sk-parallel {display: flex;align-items: stretch;justify-content: center;background-color: white;position: relative;}#sk-container-id-1 div.sk-item::before, #sk-container-id-1 div.sk-parallel-item::before {content: \"\";position: absolute;border-left: 1px solid gray;box-sizing: border-box;top: 0;bottom: 0;left: 50%;z-index: -1;}#sk-container-id-1 div.sk-parallel-item {display: flex;flex-direction: column;z-index: 1;position: relative;background-color: white;}#sk-container-id-1 div.sk-parallel-item:first-child::after {align-self: flex-end;width: 50%;}#sk-container-id-1 div.sk-parallel-item:last-child::after {align-self: flex-start;width: 50%;}#sk-container-id-1 div.sk-parallel-item:only-child::after {width: 0;}#sk-container-id-1 div.sk-dashed-wrapped {border: 1px dashed gray;margin: 0 0.4em 0.5em 0.4em;box-sizing: border-box;padding-bottom: 0.4em;background-color: white;}#sk-container-id-1 div.sk-label label {font-family: monospace;font-weight: bold;display: inline-block;line-height: 1.2em;}#sk-container-id-1 div.sk-label-container {text-align: center;}#sk-container-id-1 div.sk-container {/* jupyter's `normalize.less` sets `[hidden] { display: none; }` but bootstrap.min.css set `[hidden] { display: none !important; }` so we also need the `!important` here to be able to override the default hidden behavior on the sphinx rendered scikit-learn.org. See: https://github.com/scikit-learn/scikit-learn/issues/21755 */display: inline-block !important;position: relative;}#sk-container-id-1 div.sk-text-repr-fallback {display: none;}</style><div id=\"sk-container-id-1\" class=\"sk-top-container\"><div class=\"sk-text-repr-fallback\"><pre>BernoulliNB()</pre><b>In a Jupyter environment, please rerun this cell to show the HTML representation or trust the notebook. <br />On GitHub, the HTML representation is unable to render, please try loading this page with nbviewer.org.</b></div><div class=\"sk-container\" hidden><div class=\"sk-item\"><div class=\"sk-estimator sk-toggleable\"><input class=\"sk-toggleable__control sk-hidden--visually\" id=\"sk-estimator-id-1\" type=\"checkbox\" checked><label for=\"sk-estimator-id-1\" class=\"sk-toggleable__label sk-toggleable__label-arrow\">BernoulliNB</label><div class=\"sk-toggleable__content\"><pre>BernoulliNB()</pre></div></div></div></div></div>"
      ],
      "text/plain": [
       "BernoulliNB()"
      ]
     },
     "execution_count": 31,
     "metadata": {},
     "output_type": "execute_result"
    }
   ],
   "source": [
    "\n",
    "model1.fit(x_train, y_train)\n",
    "model2.fit(x_train, y_train)\n",
    "model3.fit(x_train, y_train)"
   ]
  },
  {
   "cell_type": "code",
   "execution_count": 33,
   "metadata": {
    "execution": {
     "iopub.execute_input": "2025-06-11T12:06:53.542551Z",
     "iopub.status.busy": "2025-06-11T12:06:53.542262Z",
     "iopub.status.idle": "2025-06-11T12:06:56.034942Z",
     "shell.execute_reply": "2025-06-11T12:06:56.034008Z",
     "shell.execute_reply.started": "2025-06-11T12:06:53.542531Z"
    }
   },
   "outputs": [],
   "source": [
    "y_pred1 = model1.predict(x_test)\n",
    "y_pred2 = model2.predict(x_test)\n",
    "y_pred3 = model3.predict(x_test)"
   ]
  },
  {
   "cell_type": "code",
   "execution_count": 34,
   "metadata": {
    "execution": {
     "iopub.execute_input": "2025-06-11T12:07:01.273784Z",
     "iopub.status.busy": "2025-06-11T12:07:01.273452Z",
     "iopub.status.idle": "2025-06-11T12:07:01.278305Z",
     "shell.execute_reply": "2025-06-11T12:07:01.277253Z",
     "shell.execute_reply.started": "2025-06-11T12:07:01.273759Z"
    }
   },
   "outputs": [],
   "source": [
    "from sklearn.metrics import accuracy_score"
   ]
  },
  {
   "cell_type": "code",
   "execution_count": 35,
   "metadata": {
    "execution": {
     "iopub.execute_input": "2025-06-11T12:07:03.834466Z",
     "iopub.status.busy": "2025-06-11T12:07:03.834150Z",
     "iopub.status.idle": "2025-06-11T12:07:03.844253Z",
     "shell.execute_reply": "2025-06-11T12:07:03.843324Z",
     "shell.execute_reply.started": "2025-06-11T12:07:03.834442Z"
    }
   },
   "outputs": [
    {
     "name": "stdout",
     "output_type": "stream",
     "text": [
      "Guassian: 0.6145\n",
      "Multinomial: 0.8425\n",
      "Bernoulli: 0.8385\n"
     ]
    }
   ],
   "source": [
    "print(\"Guassian:\", accuracy_score(y_test, y_pred1))\n",
    "print(\"Multinomial:\", accuracy_score(y_test, y_pred2))\n",
    "print(\"Bernoulli:\", accuracy_score(y_test, y_pred3))"
   ]
  },
  {
   "cell_type": "code",
   "execution_count": null,
   "metadata": {},
   "outputs": [],
   "source": []
  }
 ],
 "metadata": {
  "kaggle": {
   "accelerator": "none",
   "dataSources": [
    {
     "datasetId": 134715,
     "sourceId": 320111,
     "sourceType": "datasetVersion"
    }
   ],
   "dockerImageVersionId": 31040,
   "isGpuEnabled": false,
   "isInternetEnabled": false,
   "language": "python",
   "sourceType": "notebook"
  },
  "kernelspec": {
   "display_name": "Python 3 (ipykernel)",
   "language": "python",
   "name": "python3"
  },
  "language_info": {
   "codemirror_mode": {
    "name": "ipython",
    "version": 3
   },
   "file_extension": ".py",
   "mimetype": "text/x-python",
   "name": "python",
   "nbconvert_exporter": "python",
   "pygments_lexer": "ipython3",
   "version": "3.13.4"
  }
 },
 "nbformat": 4,
 "nbformat_minor": 4
}
